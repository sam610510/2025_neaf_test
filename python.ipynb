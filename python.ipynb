{
 "cells": [
  {
   "cell_type": "code",
   "execution_count": 9,
   "id": "0f783c67",
   "metadata": {},
   "outputs": [
    {
     "name": "stdout",
     "output_type": "stream",
     "text": [
      "Excel 檔案已輸出: c:\\test 2\\2025_neaf_test\\test.xlsx\n"
     ]
    },
    {
     "data": {
      "image/png": "[encoded data removed]",
      "text/plain": [
       "<Figure size 640x480 with 6 Axes>"
      ]
     },
     "metadata": {},
     "output_type": "display_data"
    }
   ],
   "source": [
    "import numpy as np\n",
    "import pandas as pd\n",
    "import matplotlib.pyplot as plt\n",
    "import os\n",
    "\n",
    "stats_list = []\n",
    "\n",
    "one = np.random.randint(0, 255, size=(10, 20), dtype=np.uint8)\n",
    "zero = np.zeros((10, 20), dtype=np.uint8)\n",
    "red_image = np.stack((one, zero, zero), axis=-1)    # 紅色\n",
    "green_image = np.stack((zero, one, zero), axis=-1)    # 綠色\n",
    "blue_image= np.stack((zero, zero, one), axis=-1)    # 藍色\n",
    "\n",
    "gray_images1 = np.mean(red_image, axis=2).astype(np.uint8)\n",
    "gray_images2 = np.mean(green_image, axis=2).astype(np.uint8)\n",
    "gray_images3 = np.mean(blue_image, axis=2).astype(np.uint8)\n",
    "\n",
    "\n",
    "plt.subplot(2,3,1)\n",
    "plt.imshow(red_image,)\n",
    "plt.title(\"red\")\n",
    "plt.axis(\"off\")\n",
    "\n",
    "plt.subplot(2,3,2)\n",
    "plt.imshow(green_image,)\n",
    "plt.title(\"green\")\n",
    "plt.axis(\"off\")\n",
    "\n",
    "plt.subplot(2,3,3)\n",
    "plt.imshow(blue_image,)\n",
    "plt.title(\"blue\")\n",
    "plt.axis(\"off\")\n",
    "\n",
    "plt.subplot(2,3,4)\n",
    "plt.imshow(gray_images1,cmap='gray')\n",
    "plt.title(\"red\")\n",
    "plt.axis(\"off\")\n",
    "\n",
    "plt.subplot(2,3,5)\n",
    "plt.imshow(gray_images2,cmap='gray')\n",
    "plt.title(\"green\")\n",
    "plt.axis(\"off\")\n",
    "\n",
    "plt.subplot(2,3,6)\n",
    "plt.imshow(gray_images3,cmap='gray')\n",
    "plt.title(\"blue\")\n",
    "plt.axis(\"off\")\n",
    "\n",
    "max_val = np.max(gray_images1)\n",
    "min_val = np.min(gray_images1)\n",
    "mean_val = np.mean(gray_images1)\n",
    "std_val = np.std(gray_images1)\n",
    "\n",
    "stats_list.append([1, max_val, min_val, mean_val, std_val])\n",
    "\n",
    "max_val = np.max(gray_images2)\n",
    "min_val = np.min(gray_images2)\n",
    "mean_val = np.mean(gray_images2)\n",
    "std_val = np.std(gray_images2)\n",
    "\n",
    "stats_list.append([2, max_val, min_val, mean_val, std_val])\n",
    "\n",
    "max_val = np.max(gray_images3)\n",
    "min_val = np.min(gray_images3)\n",
    "mean_val = np.mean(gray_images3)\n",
    "std_val = np.std(gray_images3)\n",
    "\n",
    "stats_list.append([3, max_val, min_val, mean_val, std_val])\n",
    "df_stats = pd.DataFrame(stats_list, columns=['圖片編號', '最大值', '最小值', '平均值', '標準差'])\n",
    "output_path = os.path.join(os.getcwd(), 'test''.xlsx')\n",
    "df_stats.to_excel(output_path, index=False)\n",
    "\n",
    "print(\"Excel 檔案已輸出:\", output_path)\n",
    "\n",
    "plt.tight_layout()\n",
    "\n",
    "# 生成rgb三種顏色的10*20圖片\n",
    "# 需要彩色和黑白的 (總共要印6張圖)\n",
    "# 顏色深淺用random決定\n",
    "# 計算每張圖的平均值、標準差、最大值、最小值 存成excel檔\n",
    "# 以下是範例\n",
    "\n",
    "# 提示 img=np.random.randint(?,?, size=(?,?,?), dtype=np.uint8)\n",
    "# 印出來看看 img[:,:,1]=0 長怎樣 是什麼顏色\n",
    "\n"
   ]
  },
  {
   "cell_type": "code",
   "execution_count": null,
   "id": "9f3d0940",
   "metadata": {},
   "outputs": [],
   "source": []
  }
 ],
 "metadata": {
  "kernelspec": {
   "display_name": "3.10.1",
   "language": "python",
   "name": "python3"
  },
  "language_info": {
   "codemirror_mode": {
    "name": "ipython",
    "version": 3
   },
   "file_extension": ".py",
   "mimetype": "text/x-python",
   "name": "python",
   "nbconvert_exporter": "python",
   "pygments_lexer": "ipython3",
   "version": "3.10.1"
  }
 },
 "nbformat": 4,
 "nbformat_minor": 5
}
